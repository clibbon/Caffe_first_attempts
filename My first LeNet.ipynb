{
 "cells": [
  {
   "cell_type": "markdown",
   "metadata": {},
   "source": [
    "Preparation of the first training experiment. I've downloaded the mnist training dataset, and want to see if I can replicate LeNet. The setup is defined in the file My_LeNet.proto. The dataset comes in raw binary format, so lets have a look at one of the images. http://yann.lecun.com/exdb/mnist/"
   ]
  },
  {
   "cell_type": "code",
   "execution_count": 74,
   "metadata": {
    "collapsed": true
   },
   "outputs": [],
   "source": [
    "import numpy as np\n",
    "import matplotlib.pylab as plt\n",
    "%matplotlib inline\n",
    "caffe_root = \"/home/alex/Caffe/caffe/\"\n",
    "imgSize = 28\n",
    "fileBinaryOffset = 16\n",
    "labelBinaryOffset = 8"
   ]
  },
  {
   "cell_type": "markdown",
   "metadata": {},
   "source": [
    "Since we have a different byte ordering to the one used in the generation of the images we have to read the byte info in this order. The first is a magic number, the next the number of images, and the next two the dimensions of each image. "
   ]
  },
  {
   "cell_type": "code",
   "execution_count": 51,
   "metadata": {
    "collapsed": false
   },
   "outputs": [
    {
     "name": "stdout",
     "output_type": "stream",
     "text": [
      "[ 2051 60000    28    28]\n"
     ]
    }
   ],
   "source": [
    "A = np.fromfile(caffe_root + \"data/mnist/train-images-idx3-ubyte\", \n",
    "                dtype='>i4', sep=\"\",\n",
    "                count = 4)\n",
    "print A\n"
   ]
  },
  {
   "cell_type": "markdown",
   "metadata": {},
   "source": [
    "Now try to view one of the images. They are in unsigned byte format, but we have to ignore the first 16 bytes as they contain the above info"
   ]
  },
  {
   "cell_type": "code",
   "execution_count": 75,
   "metadata": {
    "collapsed": false
   },
   "outputs": [
    {
     "data": {
      "image/png": "[encoded data removed]",
      "text/plain": [
       "<matplotlib.figure.Figure at 0x7fa8dbdfa950>"
      ]
     },
     "metadata": {},
     "output_type": "display_data"
    }
   ],
   "source": [
    "A = np.fromfile(caffe_root + \"data/mnist/train-images-idx3-ubyte\", \n",
    "                dtype='u1', sep=\"\",\n",
    "                count = imgSize**2 + fileBinaryOffset)\n",
    "A = A[fileBinaryOffset:]\n",
    "A = A.reshape([imgSize,imgSize])\n",
    "plt.imshow(A);\n",
    "plt.set_cmap('Greys_r')"
   ]
  },
  {
   "cell_type": "markdown",
   "metadata": {},
   "source": [
    "Can we also read the labels file, just to see what format these all come in?"
   ]
  },
  {
   "cell_type": "code",
   "execution_count": 76,
   "metadata": {
    "collapsed": false
   },
   "outputs": [
    {
     "name": "stdout",
     "output_type": "stream",
     "text": [
      "[5]\n"
     ]
    }
   ],
   "source": [
    "A = np.fromfile(caffe_root + \"data/mnist/train-labels-idx1-ubyte\", \n",
    "                dtype='u1', sep=\"\",\n",
    "                count = 1 + labelBinaryOffset)\n",
    "A = A[labelBinaryOffset:]\n",
    "print A"
   ]
  },
  {
   "cell_type": "code",
   "execution_count": null,
   "metadata": {
    "collapsed": true
   },
   "outputs": [],
   "source": []
  }
 ],
 "metadata": {
  "kernelspec": {
   "display_name": "Python 2",
   "language": "python",
   "name": "python2"
  },
  "language_info": {
   "codemirror_mode": {
    "name": "ipython",
    "version": 2
   },
   "file_extension": ".py",
   "mimetype": "text/x-python",
   "name": "python",
   "nbconvert_exporter": "python",
   "pygments_lexer": "ipython2",
   "version": "2.7.9"
  }
 },
 "nbformat": 4,
 "nbformat_minor": 0
}
