{
 "cells": [
  {
   "cell_type": "markdown",
   "metadata": {},
   "source": [
    "Remove missing files from labels list"
   ]
  },
  {
   "cell_type": "code",
   "execution_count": 4,
   "metadata": {
    "collapsed": false
   },
   "outputs": [],
   "source": [
    "labels = open(\"labels.txt\", \"r\") # Open the labels file\n",
    "missingInfo = open(\"MissingImages.txt\",'r')\n",
    "newLabels = open(\"labels_none_missing.txt\",'w')\n",
    "import mmap\n",
    "s = mmap.mmap(missingInfo.fileno(), 0, access=mmap.ACCESS_READ)"
   ]
  },
  {
   "cell_type": "code",
   "execution_count": 5,
   "metadata": {
    "collapsed": false
   },
   "outputs": [],
   "source": [
    "lineCount = 0\n",
    "for line in labels:\n",
    "    words = line.split()\n",
    "    lineCount += 1\n",
    "    if s.find(words[0]) == -1:\n",
    "        if words[0].find('.jpg') != -1:\n",
    "            newLabels.write(line)"
   ]
  },
  {
   "cell_type": "markdown",
   "metadata": {},
   "source": [
    "Create a matrix of class amounts."
   ]
  },
  {
   "cell_type": "code",
   "execution_count": 8,
   "metadata": {
    "collapsed": true
   },
   "outputs": [],
   "source": [
    "img_labels = ['lake', 'plants', 'window', 'buildings',\n",
    "                             'grass', 'animal', 'water', 'person',\n",
    "                             'clouds', 'sky', 'NA']\n",
    "values = dict()\n",
    "for index, lab in enumerate(img_labels):\n",
    "    values[lab] = index\n",
    "import numpy as np"
   ]
  },
  {
   "cell_type": "code",
   "execution_count": 61,
   "metadata": {
    "collapsed": false
   },
   "outputs": [],
   "source": [
    "A = np.zeros((lineCount, len(img_labels)), dtype = 'bool')\n",
    "for i, line in enumerate(labels):\n",
    "    words = line.split()\n",
    "    #present = map(lambda x : x in words, img_labels)\n",
    "    #print present\n",
    "    A[i] = map(lambda x : x in words[1:], img_labels)\n",
    "    "
   ]
  },
  {
   "cell_type": "markdown",
   "metadata": {
    "collapsed": false
   },
   "source": [
    "With this array we can now get the number of times each pair occurs together in isolation"
   ]
  },
  {
   "cell_type": "code",
   "execution_count": 67,
   "metadata": {
    "collapsed": true
   },
   "outputs": [],
   "source": [
    "# Select only places with only two labels\n",
    "twoLabelsIdx = np.sum(A,1) == 2\n",
    "ATwoLabels = A[twoLabelsIdx,:]"
   ]
  },
  {
   "cell_type": "code",
   "execution_count": 71,
   "metadata": {
    "collapsed": false
   },
   "outputs": [],
   "source": [
    "crossIncidence = np.zeros([len(img_labels),len(img_labels)])\n",
    "import itertools as it\n",
    "for i in it.permutations(range(0,len(img_labels)), 2):\n",
    "    temp = np.logical_and(ATwoLabels[:,i[0]],ATwoLabels[:,i[1]])\n",
    "    #temp = [for x in ATwoLabels[:,i[0]] and ATwoLabels[:,i[1]]\n",
    "    crossIncidence[i] = sum(temp)"
   ]
  },
  {
   "cell_type": "code",
   "execution_count": 20,
   "metadata": {
    "collapsed": false
   },
   "outputs": [
    {
     "name": "stdout",
     "output_type": "stream",
     "text": [
      "12603.jpg sky clouds water\n",
      "\n",
      "[False, False, False, False, False, False, True, False, True, True, False]\n"
     ]
    }
   ],
   "source": [
    "lines = labels.readlines()\n",
    "print lines[12000]\n",
    "words = lines[12000].split()\n",
    "print map(lambda x : x in words[1:], img_labels)"
   ]
  },
  {
   "cell_type": "code",
   "execution_count": 100,
   "metadata": {
    "collapsed": false
   },
   "outputs": [],
   "source": [
    "temp = np.sum(A,0) "
   ]
  },
  {
   "cell_type": "code",
   "execution_count": 101,
   "metadata": {
    "collapsed": false
   },
   "outputs": [
    {
     "data": {
      "text/plain": [
       "13803"
      ]
     },
     "execution_count": 101,
     "metadata": {},
     "output_type": "execute_result"
    }
   ],
   "source": [
    "temp[1]"
   ]
  },
  {
   "cell_type": "code",
   "execution_count": 91,
   "metadata": {
    "collapsed": false
   },
   "outputs": [
    {
     "data": {
      "image/png": "[encoded data removed]",
      "text/plain": [
       "<matplotlib.figure.Figure at 0x7f9771d04610>"
      ]
     },
     "metadata": {},
     "output_type": "display_data"
    }
   ],
   "source": [
    "import matplotlib.pyplot as plt\n",
    "%matplotlib inline\n",
    "plt.imshow(crossIncidence/crossIncidence.argmax(),interpolation='nearest')\n",
    "plt.xticks(range(11),img_labels, rotation=90)\n",
    "plt.yticks(range(11),img_labels)\n",
    "plt.show()"
   ]
  },
  {
   "cell_type": "markdown",
   "metadata": {},
   "source": [
    "From this it looks like sky and clouds, unsurprisingly occur together often. The numbers are:"
   ]
  },
  {
   "cell_type": "code",
   "execution_count": 102,
   "metadata": {
    "collapsed": false
   },
   "outputs": [
    {
     "name": "stdout",
     "output_type": "stream",
     "text": [
      "n clouds and sky = 16186\n",
      "n clouds alone = 3446\n",
      "n sky alone = 10154\n"
     ]
    }
   ],
   "source": [
    "oneLabelIdx = np.sum(A,1) == 1\n",
    "oneLabelIdx = A[oneLabelIdx,:]\n",
    "oneLabelTotals = np.sum(oneLabelIdx,0)\n",
    "#temp = np.sum(A,0) \n",
    "print \"n clouds and sky = {:.0f}\".format(crossIncidence[8,9])\n",
    "print \"n clouds alone = {:.0f}\".format(oneLabelTotals[8])\n",
    "print \"n sky alone = {:.0f}\".format(oneLabelTotals[9])"
   ]
  },
  {
   "cell_type": "markdown",
   "metadata": {},
   "source": [
    "This therefore looks like a much better dataset for trialing, and demonstrating the benefits of the multitask method of learning. The second largest value is 3636, which is animal and grass."
   ]
  },
  {
   "cell_type": "code",
   "execution_count": 135,
   "metadata": {
    "collapsed": false
   },
   "outputs": [
    {
     "data": {
      "text/plain": [
       "array([ 16186.,  16186.,   3636.])"
      ]
     },
     "execution_count": 135,
     "metadata": {},
     "output_type": "execute_result"
    }
   ],
   "source": [
    "temp = crossIncidence.reshape(1,121)\n",
    "temp2 = temp.argsort()\n",
    "temp[0,temp2[0][::-1][:3]]"
   ]
  },
  {
   "cell_type": "code",
   "execution_count": 134,
   "metadata": {
    "collapsed": false
   },
   "outputs": [
    {
     "data": {
      "text/plain": [
       "array([ 97, 107,  59])"
      ]
     },
     "execution_count": 134,
     "metadata": {},
     "output_type": "execute_result"
    }
   ],
   "source": [
    "temp2[0][::-1][:3]"
   ]
  },
  {
   "cell_type": "markdown",
   "metadata": {
    "collapsed": true
   },
   "source": [
    "This tools is used to make a single batch version of a set of labels, for trialling on a small number of images to test the net. "
   ]
  },
  {
   "cell_type": "code",
   "execution_count": null,
   "metadata": {
    "collapsed": true
   },
   "outputs": [],
   "source": []
  }
 ],
 "metadata": {
  "kernelspec": {
   "display_name": "Python 2",
   "language": "python",
   "name": "python2"
  },
  "language_info": {
   "codemirror_mode": {
    "name": "ipython",
    "version": 2
   },
   "file_extension": ".py",
   "mimetype": "text/x-python",
   "name": "python",
   "nbconvert_exporter": "python",
   "pygments_lexer": "ipython2",
   "version": "2.7.9"
  }
 },
 "nbformat": 4,
 "nbformat_minor": 0
}
