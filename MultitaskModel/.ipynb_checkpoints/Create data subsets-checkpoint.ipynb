{
 "cells": [
  {
   "cell_type": "markdown",
   "metadata": {},
   "source": [
    "Script is used to separate the images into training and testing sets. There are 11 labels: lake, plants, window, buildings, grass, animal, water, person, clouds, sky, and NA]. In some images multiple labels may apply, in others, just one. This first part of the script removes all images which belong to NA or multiple categories.\n",
    "\n",
    "When running the set for the first time, I discover that some files contain no information. To get around this I made a list of all the files which were invalid. The single labels need to be modified to not include these invalid instances. "
   ]
  },
  {
   "cell_type": "code",
   "execution_count": 1,
   "metadata": {
    "collapsed": false
   },
   "outputs": [],
   "source": [
    "import numpy as np\n",
    "labels = open(\"labels.txt\", \"r\") # Open the labels file\n",
    "newlabels = open(\"singlelabels.txt\",\"wb\")\n",
    "missingInfo = open(\"MissingImages.txt\",'r')\n",
    "import mmap\n",
    "s = mmap.mmap(missingInfo.fileno(), 0, access=mmap.ACCESS_READ)\n",
    "values = dict()\n",
    "for index, lab in enumerate(['lake', 'plants', 'window', 'buildings',\n",
    "                             'grass', 'animal', 'water', 'person',\n",
    "                             'clouds', 'sky', 'NA']):\n",
    "    values[lab] = index"
   ]
  },
  {
   "cell_type": "markdown",
   "metadata": {},
   "source": [
    "This is also a really good time to count how many of each class we have. Since we now have to also check if that exists in the missing info list, we now need to import mmap. "
   ]
  },
  {
   "cell_type": "code",
   "execution_count": 2,
   "metadata": {
    "collapsed": false
   },
   "outputs": [],
   "source": [
    "class_freqs = np.zeros(10)\n",
    "for line in labels:\n",
    "    words = line.split()\n",
    "    # If length is 2 we have only a filename and a label\n",
    "    if len(words) == 2:\n",
    "        if words[1] != 'NA':\n",
    "            if s.find(words[0]) == -1:\n",
    "                string_to_write = words[0] + ' ' + str(values[words[1]]) + '\\n'\n",
    "                newlabels.write(string_to_write)\n",
    "                class_freqs[values[words[1]]] += 1"
   ]
  },
  {
   "cell_type": "markdown",
   "metadata": {},
   "source": [
    "Read the first line to check that we've done things properly"
   ]
  },
  {
   "cell_type": "code",
   "execution_count": 3,
   "metadata": {
    "collapsed": false
   },
   "outputs": [
    {
     "name": "stdout",
     "output_type": "stream",
     "text": [
      "173.jpg 7\n",
      "\n"
     ]
    }
   ],
   "source": [
    "newlabels.close()\n",
    "labels.close()\n",
    "newlabels = open(\"singlelabels.txt\",\"r\")\n",
    "print newlabels.readline()"
   ]
  },
  {
   "cell_type": "markdown",
   "metadata": {},
   "source": [
    "And report on how many of each class we have."
   ]
  },
  {
   "cell_type": "code",
   "execution_count": 4,
   "metadata": {
    "collapsed": false
   },
   "outputs": [
    {
     "name": "stdout",
     "output_type": "stream",
     "text": [
      "Number containing lake is 271\n",
      "Number containing plants is 5591\n",
      "Number containing window is 5222\n",
      "Number containing buildings is 2707\n",
      "Number containing grass is 3207\n",
      "Number containing animal is 19240\n",
      "Number containing water is 5663\n",
      "Number containing person is 34597\n",
      "Number containing clouds is 3354\n",
      "Number containing sky is 9887\n"
     ]
    }
   ],
   "source": [
    "for index, lab in enumerate(['lake', 'plants', 'window', 'buildings',\n",
    "                             'grass', 'animal', 'water', 'person',\n",
    "                             'clouds', 'sky']):\n",
    "    print \"Number containing {} is {:.0f}\".format(lab, class_freqs[index])"
   ]
  },
  {
   "cell_type": "markdown",
   "metadata": {},
   "source": [
    "Now these are split into training and testing sets, based on a split of 80% test 10% validation 10% train. "
   ]
  },
  {
   "cell_type": "markdown",
   "metadata": {},
   "source": [
    "There are 89739 images. These are split into the three groups"
   ]
  },
  {
   "cell_type": "code",
   "execution_count": 5,
   "metadata": {
    "collapsed": false
   },
   "outputs": [],
   "source": [
    "nItems = int(sum(class_freqs))\n",
    "import random as r\n",
    "positions = range(0,nItems)\n",
    "r.shuffle(positions)\n",
    "train_idx = positions[:int(nItems*0.8)]\n",
    "val_idx = positions[int(nItems*0.8)+1:int(nItems*0.9)]\n",
    "test_idx = positions[int(nItems*0.9)+1:]"
   ]
  },
  {
   "cell_type": "code",
   "execution_count": null,
   "metadata": {
    "collapsed": false
   },
   "outputs": [],
   "source": [
    "labels = open(\"singlelabels.txt\", \"r\") # Open the labels file\n",
    "test_labels = open(\"singlelabels_test.txt\",\"wb\")\n",
    "train_labels = open(\"singlelabels_train.txt\",\"wb\")\n",
    "val_labels = open(\"singlelabels_val.txt\",\"wb\")\n",
    "for i, line in enumerate(labels):\n",
    "    if i in test_idx:\n",
    "        test_labels.write(line)\n",
    "    if i in train_idx:\n",
    "        train_labels.write(line)\n",
    "    if i in val_idx:\n",
    "        val_labels.write(line)\n",
    "test_labels.close()\n",
    "train_labels.close()\n",
    "val_labels.close()"
   ]
  },
  {
   "cell_type": "code",
   "execution_count": 7,
   "metadata": {
    "collapsed": false
   },
   "outputs": [
    {
     "data": {
      "text/plain": [
       "89739"
      ]
     },
     "execution_count": 7,
     "metadata": {},
     "output_type": "execute_result"
    }
   ],
   "source": [
    "nItems"
   ]
  },
  {
   "cell_type": "code",
   "execution_count": null,
   "metadata": {
    "collapsed": true
   },
   "outputs": [],
   "source": []
  }
 ],
 "metadata": {
  "kernelspec": {
   "display_name": "Python 2",
   "language": "python",
   "name": "python2"
  },
  "language_info": {
   "codemirror_mode": {
    "name": "ipython",
    "version": 2
   },
   "file_extension": ".py",
   "mimetype": "text/x-python",
   "name": "python",
   "nbconvert_exporter": "python",
   "pygments_lexer": "ipython2",
   "version": "2.7.9"
  }
 },
 "nbformat": 4,
 "nbformat_minor": 0
}
